{
 "cells": [
  {
   "cell_type": "markdown",
   "id": "1f35bebc",
   "metadata": {},
   "source": [
    "# Spam Detection using Tensorflow (v - 1.5.0), pandas (v - 0.20.3 ) & numpy (v - 1.14.5)"
   ]
  },
  {
   "cell_type": "markdown",
   "id": "14cb7861",
   "metadata": {},
   "source": [
    "# Importing necessary Packages and modules accordingly."
   ]
  },
  {
   "cell_type": "code",
   "execution_count": 23,
   "id": "127a4020",
   "metadata": {},
   "outputs": [],
   "source": [
    "import pandas as pd\n",
    "from sklearn.model_selection import train_test_split\n",
    "from sklearn.feature_extraction.text import TfidfVectorizer\n",
    "from sklearn.preprocessing import LabelEncoder\n",
    "from sklearn.metrics import accuracy_score, confusion_matrix, classification_report\n",
    "import tensorflow as tf\n",
    "import warnings"
   ]
  },
  {
   "cell_type": "markdown",
   "id": "60f9f91d",
   "metadata": {},
   "source": [
    "# Load the dataset"
   ]
  },
  {
   "cell_type": "code",
   "execution_count": 2,
   "id": "82146915",
   "metadata": {},
   "outputs": [],
   "source": [
    "data = pd.read_csv(r\"C:\\Users\\Agniv\\Desktop\\Internships\\devtern internship\\machine learning project\\Spam Detection project\\dataset\\spam_ham_dataset.csv\", encoding='latin-1')"
   ]
  },
  {
   "cell_type": "markdown",
   "id": "e15efdca",
   "metadata": {},
   "source": [
    "# Handling missing values"
   ]
  },
  {
   "cell_type": "code",
   "execution_count": 3,
   "id": "5783ff3c",
   "metadata": {},
   "outputs": [],
   "source": [
    "data.fillna(method='ffill', inplace=True)"
   ]
  },
  {
   "cell_type": "markdown",
   "id": "f1877f0f",
   "metadata": {},
   "source": [
    "# Select columns for analysis"
   ]
  },
  {
   "cell_type": "code",
   "execution_count": 4,
   "id": "6709abf5",
   "metadata": {},
   "outputs": [],
   "source": [
    "data = data[['label', 'message']]"
   ]
  },
  {
   "cell_type": "markdown",
   "id": "c230c81f",
   "metadata": {},
   "source": [
    "# Encode labels"
   ]
  },
  {
   "cell_type": "code",
   "execution_count": 5,
   "id": "5cf1e5fe",
   "metadata": {},
   "outputs": [],
   "source": [
    "label_encoder = LabelEncoder()"
   ]
  },
  {
   "cell_type": "code",
   "execution_count": 6,
   "id": "2a4d037a",
   "metadata": {},
   "outputs": [],
   "source": [
    "data['label'] = label_encoder.fit_transform(data['label'])"
   ]
  },
  {
   "cell_type": "markdown",
   "id": "200abce6",
   "metadata": {},
   "source": [
    "# Split the dataset into training and test sets"
   ]
  },
  {
   "cell_type": "code",
   "execution_count": 7,
   "id": "b5444ae9",
   "metadata": {},
   "outputs": [],
   "source": [
    "X_train, X_test, y_train, y_test = train_test_split(data['message'], data['label'], test_size=0.2, random_state=42)"
   ]
  },
  {
   "cell_type": "markdown",
   "id": "519b8469",
   "metadata": {},
   "source": [
    "# Convert 'message' column to strings"
   ]
  },
  {
   "cell_type": "code",
   "execution_count": 8,
   "id": "fb90c34a",
   "metadata": {},
   "outputs": [],
   "source": [
    "X_train = X_train.astype(str)"
   ]
  },
  {
   "cell_type": "code",
   "execution_count": 9,
   "id": "e1753ebe",
   "metadata": {},
   "outputs": [],
   "source": [
    "X_test = X_test.astype(str)"
   ]
  },
  {
   "cell_type": "markdown",
   "id": "54d4f5b1",
   "metadata": {},
   "source": [
    "# Vectorize the text data"
   ]
  },
  {
   "cell_type": "code",
   "execution_count": 10,
   "id": "75a8085f",
   "metadata": {},
   "outputs": [],
   "source": [
    "vectorizer = TfidfVectorizer()"
   ]
  },
  {
   "cell_type": "code",
   "execution_count": 11,
   "id": "a7258ee6",
   "metadata": {},
   "outputs": [],
   "source": [
    "X_train = vectorizer.fit_transform(X_train)"
   ]
  },
  {
   "cell_type": "code",
   "execution_count": 12,
   "id": "6d6b795a",
   "metadata": {},
   "outputs": [],
   "source": [
    "X_test = vectorizer.transform(X_test)"
   ]
  },
  {
   "cell_type": "markdown",
   "id": "07214fa6",
   "metadata": {},
   "source": [
    "# Build the TensorFlow model"
   ]
  },
  {
   "cell_type": "code",
   "execution_count": 13,
   "id": "f79928bb",
   "metadata": {},
   "outputs": [],
   "source": [
    "model = tf.keras.Sequential([\n",
    "    tf.keras.layers.Dense(128, activation='relu', input_shape=(X_train.shape[1],)),\n",
    "    tf.keras.layers.Dropout(0.5),\n",
    "    tf.keras.layers.Dense(64, activation='relu'),\n",
    "    tf.keras.layers.Dropout(0.5),\n",
    "    tf.keras.layers.Dense(1, activation='sigmoid')\n",
    "])"
   ]
  },
  {
   "cell_type": "markdown",
   "id": "08e53dc8",
   "metadata": {},
   "source": [
    "# Compile the model"
   ]
  },
  {
   "cell_type": "code",
   "execution_count": 14,
   "id": "6c3df7d3",
   "metadata": {},
   "outputs": [
    {
     "name": "stdout",
     "output_type": "stream",
     "text": [
      "WARNING:tensorflow:From C:\\Users\\Agniv\\PycharmProjects\\.venv\\lib\\site-packages\\tensorflow\\python\\keras\\_impl\\keras\\backend.py:1557: calling reduce_mean (from tensorflow.python.ops.math_ops) with keep_dims is deprecated and will be removed in a future version.\n",
      "Instructions for updating:\n",
      "keep_dims is deprecated, use keepdims instead\n"
     ]
    }
   ],
   "source": [
    "model.compile(optimizer='adam', loss='binary_crossentropy', metrics=['accuracy'])"
   ]
  },
  {
   "cell_type": "markdown",
   "id": "ad68cb45",
   "metadata": {},
   "source": [
    "# Train the model"
   ]
  },
  {
   "cell_type": "code",
   "execution_count": 15,
   "id": "365c4668",
   "metadata": {},
   "outputs": [
    {
     "name": "stdout",
     "output_type": "stream",
     "text": [
      "Train on 4136 samples, validate on 1035 samples\n",
      "Epoch 1/15\n",
      "4136/4136 [==============================]4136/4136 [==============================] - 2s 599us/step - loss: 0.6313 - acc: 0.7019 - val_loss: 0.5964 - val_acc: 0.7169\n",
      "\n",
      "Epoch 2/15\n",
      "4136/4136 [==============================]4136/4136 [==============================] - 2s 508us/step - loss: 0.5903 - acc: 0.7084 - val_loss: 0.5966 - val_acc: 0.7169\n",
      "\n",
      "Epoch 3/15\n",
      "4136/4136 [==============================]4136/4136 [==============================] - 2s 482us/step - loss: 0.5426 - acc: 0.7084 - val_loss: 0.5966 - val_acc: 0.7169\n",
      "\n",
      "Epoch 4/15\n",
      "4136/4136 [==============================]4136/4136 [==============================] - 2s 513us/step - loss: 0.4211 - acc: 0.7372 - val_loss: 0.6050 - val_acc: 0.7169\n",
      "\n",
      "Epoch 5/15\n",
      "4136/4136 [==============================]4136/4136 [==============================] - 2s 508us/step - loss: 0.1786 - acc: 0.9715 - val_loss: 0.6042 - val_acc: 0.7169\n",
      "\n",
      "Epoch 6/15\n",
      "4136/4136 [==============================]4136/4136 [==============================] - 2s 495us/step - loss: 0.0472 - acc: 0.9964 - val_loss: 0.6808 - val_acc: 0.7169\n",
      "\n",
      "Epoch 7/15\n",
      "4136/4136 [==============================]4136/4136 [==============================] - 2s 503us/step - loss: 0.0173 - acc: 0.9990 - val_loss: 0.6444 - val_acc: 0.7169\n",
      "\n",
      "Epoch 8/15\n",
      "4136/4136 [==============================]4136/4136 [==============================] - 2s 513us/step - loss: 0.0101 - acc: 0.9995 - val_loss: 0.6389 - val_acc: 0.7169\n",
      "\n",
      "Epoch 9/15\n",
      "4136/4136 [==============================]4136/4136 [==============================] - 2s 483us/step - loss: 0.0061 - acc: 0.9993 - val_loss: 0.6081 - val_acc: 0.7169\n",
      "\n",
      "Epoch 10/15\n",
      "4136/4136 [==============================]4136/4136 [==============================] - 2s 538us/step - loss: 0.0043 - acc: 0.9998 - val_loss: 0.6001 - val_acc: 0.7169\n",
      "\n",
      "Epoch 11/15\n",
      "4136/4136 [==============================]4136/4136 [==============================] - 2s 495us/step - loss: 0.0039 - acc: 0.9990 - val_loss: 0.6699 - val_acc: 0.7169\n",
      "\n",
      "Epoch 12/15\n",
      "4136/4136 [==============================]4136/4136 [==============================] - 2s 497us/step - loss: 0.0031 - acc: 0.9998 - val_loss: 0.6131 - val_acc: 0.7169\n",
      "\n",
      "Epoch 13/15\n",
      "4136/4136 [==============================]4136/4136 [==============================] - 2s 534us/step - loss: 0.0017 - acc: 0.9998 - val_loss: 0.6711 - val_acc: 0.7169\n",
      "\n",
      "Epoch 14/15\n",
      "4136/4136 [==============================]4136/4136 [==============================] - 2s 579us/step - loss: 0.0032 - acc: 0.9995 - val_loss: 0.8834 - val_acc: 0.7169\n",
      "\n",
      "Epoch 15/15\n",
      "4136/4136 [==============================]4136/4136 [==============================] - 2s 537us/step - loss: 0.0019 - acc: 0.9998 - val_loss: 0.6822 - val_acc: 0.7169\n",
      "\n"
     ]
    }
   ],
   "source": [
    "history = model.fit(X_train.toarray(), y_train, epochs=15, batch_size=64, validation_data=(X_test.toarray(), y_test))"
   ]
  },
  {
   "cell_type": "markdown",
   "id": "1b2e68e0",
   "metadata": {},
   "source": [
    "# Before evaluating the model"
   ]
  },
  {
   "cell_type": "code",
   "execution_count": 24,
   "id": "1aaa7d3e",
   "metadata": {},
   "outputs": [],
   "source": [
    "with warnings.catch_warnings():\n",
    "    warnings.filterwarnings(\"ignore\", category=FutureWarning)"
   ]
  },
  {
   "cell_type": "markdown",
   "id": "8738ae6e",
   "metadata": {},
   "source": [
    "# Evaluate the model"
   ]
  },
  {
   "cell_type": "code",
   "execution_count": 25,
   "id": "83799412",
   "metadata": {},
   "outputs": [],
   "source": [
    "y_pred = model.predict_classes(X_test.toarray())"
   ]
  },
  {
   "cell_type": "code",
   "execution_count": 26,
   "id": "cf48a920",
   "metadata": {},
   "outputs": [],
   "source": [
    "accuracy = accuracy_score(y_test, y_pred)"
   ]
  },
  {
   "cell_type": "code",
   "execution_count": 27,
   "id": "49ab0ee7",
   "metadata": {},
   "outputs": [],
   "source": [
    "conf_matrix = confusion_matrix(y_test, y_pred)"
   ]
  },
  {
   "cell_type": "code",
   "execution_count": 30,
   "id": "86a9390e",
   "metadata": {},
   "outputs": [],
   "source": [
    "class_report = classification_report(y_test, y_pred, zero_division=1)\n"
   ]
  },
  {
   "cell_type": "code",
   "execution_count": 34,
   "id": "73dfcdc6",
   "metadata": {},
   "outputs": [
    {
     "name": "stdout",
     "output_type": "stream",
     "text": [
      "Accuracy: 71.69%\n"
     ]
    }
   ],
   "source": [
    "print(f'Accuracy: {accuracy*100:.2f}%')"
   ]
  },
  {
   "cell_type": "code",
   "execution_count": 32,
   "id": "d5cd566c",
   "metadata": {},
   "outputs": [
    {
     "name": "stdout",
     "output_type": "stream",
     "text": [
      "Confusion Matrix:\n",
      "[[742   0]\n",
      " [293   0]]\n"
     ]
    }
   ],
   "source": [
    "print(f'Confusion Matrix:\\n{conf_matrix}')"
   ]
  },
  {
   "cell_type": "code",
   "execution_count": 33,
   "id": "97c8ebde",
   "metadata": {},
   "outputs": [
    {
     "name": "stdout",
     "output_type": "stream",
     "text": [
      "Classification Report:\n",
      "              precision    recall  f1-score   support\n",
      "\n",
      "           0       0.72      1.00      0.84       742\n",
      "           1       1.00      0.00      0.00       293\n",
      "\n",
      "    accuracy                           0.72      1035\n",
      "   macro avg       0.86      0.50      0.42      1035\n",
      "weighted avg       0.80      0.72      0.60      1035\n",
      "\n"
     ]
    }
   ],
   "source": [
    "print(f'Classification Report:\\n{class_report}')"
   ]
  }
 ],
 "metadata": {
  "kernelspec": {
   "display_name": "myenv",
   "language": "python",
   "name": "myenv"
  },
  "language_info": {
   "codemirror_mode": {
    "name": "ipython",
    "version": 3
   },
   "file_extension": ".py",
   "mimetype": "text/x-python",
   "name": "python",
   "nbconvert_exporter": "python",
   "pygments_lexer": "ipython3",
   "version": "3.6.8"
  }
 },
 "nbformat": 4,
 "nbformat_minor": 5
}
